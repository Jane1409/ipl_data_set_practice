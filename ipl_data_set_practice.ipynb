{
 "cells": [
  {
   "cell_type": "code",
   "execution_count": 6,
   "metadata": {},
   "outputs": [
    {
     "name": "stdout",
     "output_type": "stream",
     "text": [
      "hello\n"
     ]
    }
   ],
   "source": [
    "print(\"hello\")"
   ]
  },
  {
   "cell_type": "code",
   "execution_count": 31,
   "metadata": {},
   "outputs": [
    {
     "name": "stdout",
     "output_type": "stream",
     "text": [
      "/Users/janani/Code/ipl_data_set_practice\n"
     ]
    }
   ],
   "source": [
    "import os\n",
    "print(os.getcwd())\n",
    "\n"
   ]
  },
  {
   "cell_type": "code",
   "execution_count": 32,
   "metadata": {},
   "outputs": [
    {
     "name": "stdout",
     "output_type": "stream",
     "text": [
      "/Users/janani/Code/ipl_data_set_practice/data/ipl_data_set/Players.xlsx\n",
      "/Users/janani/Code/ipl_data_set_practice/data/ipl_data_set/teams.csv\n",
      "/Users/janani/Code/ipl_data_set_practice/data/ipl_data_set/matches.csv\n",
      "/Users/janani/Code/ipl_data_set_practice/data/ipl_data_set/teamwise_home_and_away.csv\n",
      "/Users/janani/Code/ipl_data_set_practice/data/ipl_data_set/most_runs_average_strikerate.csv\n",
      "/Users/janani/Code/ipl_data_set_practice/data/ipl_data_set/deliveries.csv\n"
     ]
    }
   ],
   "source": [
    "for dirname, _, filenames in os.walk(os.getcwd()+\"/data/ipl_data_set\"):\n",
    "    for filename in filenames:\n",
    "        print(os.path.join(dirname, filename))"
   ]
  },
  {
   "cell_type": "code",
   "execution_count": 25,
   "metadata": {},
   "outputs": [],
   "source": [
    "import plotly.graph_objects as go"
   ]
  },
  {
   "cell_type": "code",
   "execution_count": 27,
   "metadata": {},
   "outputs": [],
   "source": [
    "import seaborn as sns"
   ]
  },
  {
   "cell_type": "code",
   "execution_count": 28,
   "metadata": {},
   "outputs": [],
   "source": [
    "import matplotlib.pyplot as plt"
   ]
  },
  {
   "cell_type": "code",
   "execution_count": 34,
   "metadata": {},
   "outputs": [],
   "source": [
    "import plotly.express as px\n",
    "\n",
    "import numpy as np # linear algebra\n",
    "import pandas as pd"
   ]
  },
  {
   "cell_type": "code",
   "execution_count": 37,
   "metadata": {},
   "outputs": [
    {
     "name": "stdout",
     "output_type": "stream",
     "text": [
      "        Player_Name        DOB Batting_Hand           Bowling_Skill   Country\n",
      "0    A Ashish Reddy 1991-02-24   Right_Hand        Right-arm medium     India\n",
      "1        A Chandila 1983-12-05   Right_Hand      Right-arm offbreak     India\n",
      "2          A Chopra 1977-09-19   Right_Hand      Right-arm offbreak     India\n",
      "3       A Choudhary        NaT   Right_hand    Left-arm fast-medium       NaN\n",
      "4       A Dananjaya        NaT   Right_Hand      Right-arm offbreak       NaN\n",
      "..              ...        ...          ...                     ...       ...\n",
      "561     Younis Khan 1977-11-29   Right_Hand        Right-arm medium  Pakistan\n",
      "562       YS Chahal 1990-07-23   Right_Hand         Legbreak googly     India\n",
      "563    Yuvraj Singh 1981-12-12    Left_Hand  Slow left-arm orthodox     India\n",
      "564     YV Takawale 1984-11-05   Right_Hand                     NaN     India\n",
      "565          Z Khan 1978-10-07   Right_Hand    Left-arm fast-medium     India\n",
      "\n",
      "[566 rows x 5 columns]\n"
     ]
    }
   ],
   "source": [
    "current_directory = os.getcwd()\n",
    "xl = pd.read_excel(current_directory+'/data/ipl_data_set/Players.xlsx')\n",
    "print(xl)"
   ]
  },
  {
   "cell_type": "code",
   "execution_count": null,
   "metadata": {},
   "outputs": [],
   "source": []
  }
 ],
 "metadata": {
  "kernelspec": {
   "display_name": "Python 3",
   "language": "python",
   "name": "python3"
  },
  "language_info": {
   "codemirror_mode": {
    "name": "ipython",
    "version": 3
   },
   "file_extension": ".py",
   "mimetype": "text/x-python",
   "name": "python",
   "nbconvert_exporter": "python",
   "pygments_lexer": "ipython3",
   "version": "3.8.5"
  }
 },
 "nbformat": 4,
 "nbformat_minor": 4
}
